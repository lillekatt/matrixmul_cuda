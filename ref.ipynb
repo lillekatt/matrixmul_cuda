{
 "metadata": {
  "name": ""
 },
 "nbformat": 3,
 "nbformat_minor": 0,
 "worksheets": [
  {
   "cells": [
    {
     "cell_type": "code",
     "collapsed": false,
     "input": [
      "import pycuda.driver as cuda\n",
      "import pycuda.autoinit\n",
      "from pycuda.compiler import SourceModule\n",
      "import numpy\n",
      "import os"
     ],
     "language": "python",
     "metadata": {},
     "outputs": [],
     "prompt_number": 5
    },
    {
     "cell_type": "code",
     "collapsed": false,
     "input": [
      "mod = SourceModule(\"\"\"\n",
      "\n",
      "    #include <stdio.h>\n",
      "    \n",
      "    struct DoubleOperation {\n",
      "        int datalen, _padding; // so 64-bit ptrs can be aligned\n",
      "        float *ptr; // but points to address in GPU\n",
      "    };\n",
      "\n",
      "    __global__ void double_array(DoubleOperation *a) {\n",
      "        a = &a[blockIdx.x];\n",
      "        for (int idx = threadIdx.x; idx < a->datalen; idx += blockDim.x)\n",
      "            a->ptr[idx] *= 2;\n",
      "    }\n",
      "    \"\"\")"
     ],
     "language": "python",
     "metadata": {},
     "outputs": [],
     "prompt_number": 6
    },
    {
     "cell_type": "code",
     "collapsed": false,
     "input": [
      "# remember: global memory stores the address to the pointer as well as the array\n",
      "# itself but the CUDA function accesses the array via the stored pointer\n",
      "\n",
      "class DoubleOpStruct:\n",
      "    # 8 bytes (int+padding) + 8 (pointer to address/memory index) = 16 bytes total\n",
      "    # for DoubleOperation struct in the C portion of the code\n",
      "    mem_size = 8 + numpy.intp(0).nbytes\n",
      "    def __init__(self, array, struct_arr_ptr):\n",
      "        # memory to be accessed by the float pointer in the C struct is copied into device\n",
      "        self.data = cuda.to_device(numpy.getbuffer(array))\n",
      "        self.shape, self.dtype = array.shape, array.dtype\n",
      "        # copies array size to the datalen integer in the C struct -> int datalen, _padding\n",
      "        cuda.memcpy_htod(int(struct_arr_ptr), numpy.getbuffer(numpy.int32(array.size)))\n",
      "        # copies the array memory address to a float pointer in the C struct -> float *ptr\n",
      "        cuda.memcpy_htod(int(struct_arr_ptr) + 8, numpy.getbuffer(numpy.intp(self.data)))\n",
      "    def __repr__(self):\n",
      "        return str(cuda.from_device(self.data, self.shape, self.dtype))\n",
      "\n",
      "# allocates enough memory for 3 DoubleOperation struct\n",
      "struct_arr = cuda.mem_alloc(3 * DoubleOpStruct.mem_size)\n",
      "# point memory for array 2 directly after the address for array 1 in the global memory\n",
      "do2_ptr = numpy.intp(int(struct_arr) + DoubleOpStruct.mem_size)\n",
      "# point memory for array 3 directly after the address for array 2 in the global memory\n",
      "do3_ptr = numpy.intp(int(struct_arr) + 2*DoubleOpStruct.mem_size)\n",
      "# point memory somewhere else for array 4\n",
      "away_ptr = cuda.mem_alloc(DoubleOpStruct.mem_size)\n",
      "\n",
      "array1 = DoubleOpStruct(numpy.array([2, 3, 4], dtype=numpy.float32), struct_arr)\n",
      "array2 = DoubleOpStruct(numpy.array([0, 9], dtype=numpy.float32), do2_ptr)\n",
      "array3 = DoubleOpStruct(numpy.array([0, 6], dtype=numpy.float32), do3_ptr)\n",
      "array4 = DoubleOpStruct(numpy.array([2, 7], dtype=numpy.float32), away_ptr)\n",
      "print(\"original arrays\", array1, array2, array3, array4)"
     ],
     "language": "python",
     "metadata": {},
     "outputs": [
      {
       "output_type": "stream",
       "stream": "stdout",
       "text": [
        "('original arrays', [ 2.  3.  4.], [ 0.  9.], [ 0.  6.], [ 2.  7.])\n"
       ]
      }
     ],
     "prompt_number": 7
    },
    {
     "cell_type": "code",
     "collapsed": false,
     "input": [
      "# How the Python struct relates to the C struct: \n",
      "# > C struct merely reference a continuous block of memory\n",
      "# > pointer to a struct points at beginning of this block of memory\n",
      "# > cuda.mem_alloc is used allocate this block of memory and casting\n",
      "#   it as integer returns the memory to beginning of this block of memory\n",
      "# > DoubleOpStruct prepares the block of memory to be used by the C\n",
      "#   struct during the CUDA portion of the code using cuda.memcpy_htod\n",
      "# > double_array in the C part of the code takes in the pointer to the\n",
      "#   struct, hence mod.get_function is used with the pointer to the struct\n",
      "\n",
      "\n",
      "func = mod.get_function(\"double_array\")\n",
      "func(struct_arr, block = (32, 1, 1), grid=(3, 1))\n",
      "print(\"doubled arrays\", array1, array2, array3, array4)\n",
      "\n",
      "func(do2_ptr, block = (32, 1, 1), grid=(2, 1))\n",
      "print(\"doubled second/third\", array1, array2, array3, array4)\n",
      "\n",
      "func(do3_ptr, block = (32, 1, 1), grid=(1, 1))\n",
      "print(\"doubled third only\", array1, array2, array3, array4)\n",
      "\n",
      "func(away_ptr, block = (32, 1, 1), grid=(1, 1))\n",
      "print(\"doubled fourth only\", array1, array2, array3, array4)"
     ],
     "language": "python",
     "metadata": {},
     "outputs": [
      {
       "output_type": "stream",
       "stream": "stdout",
       "text": [
        "('doubled arrays', [ 4.  6.  8.], [  0.  18.], [  0.  12.], [ 2.  7.])\n",
        "('doubled second/third', [ 4.  6.  8.], [  0.  36.], [  0.  24.], [ 2.  7.])\n",
        "('doubled third only', [ 4.  6.  8.], [  0.  36.], [  0.  48.], [ 2.  7.])\n",
        "('doubled fourth only', [ 4.  6.  8.], [  0.  36.], [  0.  48.], [  4.  14.])\n"
       ]
      }
     ],
     "prompt_number": 8
    }
   ],
   "metadata": {}
  }
 ]
}